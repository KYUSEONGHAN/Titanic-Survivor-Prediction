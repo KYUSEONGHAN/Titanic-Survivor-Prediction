{
 "cells": [
  {
   "cell_type": "code",
   "execution_count": 2,
   "metadata": {},
   "outputs": [
    {
     "name": "stdout",
     "output_type": "stream",
     "text": [
      "0.7890011223344556\n"
     ]
    }
   ],
   "source": [
    "# 라이브러리(필요한 도구) 불러오기\n",
    "import pandas as pd\n",
    "import numpy as np\n",
    "from sklearn.tree import DecisionTreeClassifier\n",
    "from sklearn.tree import DecisionTreeRegressor\n",
    "from sklearn.model_selection import cross_val_score\n",
    "\n",
    "train = pd.read_csv('~/Downloads/titanic/train.csv')\n",
    "\n",
    "train['Age'] = train['Age'].fillna(29)\n",
    "train['Sex'] = train['Sex'].map({'male' : 0, 'female' : 1})\n",
    "\n",
    "train_x = train[['Pclass', 'SibSp','Age', 'Sex']]\n",
    "train_y = train['Survived']\n",
    "# 모델 만들기\n",
    "model = DecisionTreeClassifier()\n",
    "# 학습하기\n",
    "model.fit(train_x, train_y)\n",
    "# 평가하기\n",
    "scores = cross_val_score(model, train_x, train_y, scoring = 'accuracy', cv = 3)\n",
    "print(scores.mean())\n",
    "\n",
    "# 테스트 데이터 예측하기\n",
    "test = pd.read_csv('~/Downloads/titanic/test.csv')\n",
    "\n",
    "test['Age'] = test['Age'].fillna(29)\n",
    "test['Sex'] = test['Sex'].map({'male' : 0, 'female' : 1})\n",
    "\n",
    "test_x = test[['Pclass', 'SibSp', 'Age', 'Sex']]\n",
    "test_y_pred = model.predict(test_x)\n",
    "\n",
    "# 제출 파일에 맞게 변형하여 저장하기\n",
    "submission = pd.read_csv(\"~/Downloads/titanic/sample_submission.csv\")\n",
    "submission['Survived'] = test_y_pred\n",
    "submission.to_csv('submission.csv', index = False)"
   ]
  },
  {
   "cell_type": "code",
   "execution_count": null,
   "metadata": {},
   "outputs": [],
   "source": []
  }
 ],
 "metadata": {
  "kernelspec": {
   "display_name": "Python 3",
   "language": "python",
   "name": "python3"
  },
  "language_info": {
   "codemirror_mode": {
    "name": "ipython",
    "version": 3
   },
   "file_extension": ".py",
   "mimetype": "text/x-python",
   "name": "python",
   "nbconvert_exporter": "python",
   "pygments_lexer": "ipython3",
   "version": "3.8.3"
  }
 },
 "nbformat": 4,
 "nbformat_minor": 4
}
